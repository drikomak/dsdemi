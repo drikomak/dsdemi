{
 "cells": [
  {
   "cell_type": "code",
   "execution_count": null,
   "metadata": {},
   "outputs": [],
   "source": [
    "import myp\n",
    "import pandas as pd\n",
    "from sklearn.model_selection import train_test_split\n",
    "from sklearn.svm import SVC\n",
    "from sklearn.preprocessing import StandardScaler\n",
    "from sklearn.metrics import classification_report"
   ]
  },
  {
   "cell_type": "code",
   "execution_count": null,
   "metadata": {},
   "outputs": [],
   "source": [
    "# Charger le jeu de données\n",
    "data = pd.read_csv('farms_train.csv', delimiter=';', decimal=',')\n",
    "\n",
    "# Supprimer toutes les lignes contenant des valeurs NaN\n",
    "data = data.dropna()\n",
    "    \n",
    "# Séparer les caractéristiques (X) et la variable cible (y)\n",
    "X = data.drop(columns=['DIFF'])\n",
    "y = data['DIFF']"
   ]
  },
  {
   "cell_type": "code",
   "execution_count": null,
   "metadata": {},
   "outputs": [],
   "source": [
    "# Diviser les données en ensembles d'entraînement et de test\n",
    "X_train, X_test, y_train, y_test = train_test_split(X, y, test_size=0.3, random_state=42)\n",
    "\n",
    "# Standardiser les caractéristiques\n",
    "scaler = StandardScaler()\n",
    "X_train_scaled = scaler.fit_transform(X_train)\n",
    "X_test_scaled = scaler.transform(X_test)\n"
   ]
  },
  {
   "cell_type": "code",
   "execution_count": null,
   "metadata": {},
   "outputs": [],
   "source": [
    "svm_classifier = SVC(kernel='linear', random_state=42)\n",
    "svm_classifier.fit(X_train_scaled, y_train)\n",
    "\n",
    "# Faire des prédictions sur l'ensemble de test\n",
    "y_pred = svm_classifier.predict(X_test_scaled)\n",
    "\n",
    "# Imprimer le rapport de classification\n",
    "report = classification_report(y_test, y_pred)\n",
    "print(report)"
   ]
  },
  {
   "cell_type": "code",
   "execution_count": null,
   "metadata": {},
   "outputs": [],
   "source": [
    "# Afficher la matrice de confusion\n",
    "ConfusionMatrixDisplay.from_estimator(svm_classifier, X_test_scaled, y_test, cmap='Blues')\n",
    "plt.title('Confusion Matrix for SVM Model')\n",
    "plt.show()\n",
    "\n",
    "# Afficher la distribution des prédictions\n",
    "sns.histplot(y_pred, kde=True, color='blue')\n",
    "plt.title('Distribution of Predictions')\n",
    "plt.xlabel('Predicted Class')\n",
    "plt.ylabel('Frequency')\n",
    "plt.show()\n",
    "\n",
    "# Afficher l'importance des caractéristiques à partir des coefficients (pour un kernel linéaire)\n",
    "coefficients = pd.Series(svm_classifier.coef_[0], index=X.columns).sort_values()\n",
    "plt.figure(figsize=(10, 6))\n",
    "coefficients.plot(kind='barh')\n",
    "plt.title('Feature Importance Based on SVM Coefficients')\n",
    "plt.xlabel('Coefficient Value')\n",
    "plt.ylabel('Feature')\n",
    "plt.show()"
   ]
  }
 ],
 "metadata": {
  "kernelspec": {
   "display_name": "Python 3",
   "language": "python",
   "name": "python3"
  },
  "language_info": {
   "codemirror_mode": {
    "name": "ipython",
    "version": 3
   },
   "file_extension": ".py",
   "mimetype": "text/x-python",
   "name": "python",
   "nbconvert_exporter": "python",
   "pygments_lexer": "ipython3",
   "version": "3.9.13"
  }
 },
 "nbformat": 4,
 "nbformat_minor": 2
}
